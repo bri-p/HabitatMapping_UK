{
 "cells": [
  {
   "cell_type": "markdown",
   "id": "93a1c016",
   "metadata": {},
   "source": [
    "## Part 2: Using Remote Sensing and Machine Learning for Habitat Mapping \n",
    "This notebook is used for downloading Sentinel-2 images from the dates of 2018 to 2023 to map land use changes over the HS2 area (London to Mancheseter)."
   ]
  },
  {
   "cell_type": "code",
   "execution_count": 59,
   "id": "e7205528",
   "metadata": {},
   "outputs": [
    {
     "data": {
      "text/html": [
       "<p>To authorize access needed by Earth Engine, open the following\n",
       "        URL in a web browser and follow the instructions:</p>\n",
       "        <p><a href=https://code.earthengine.google.com/client-auth?scopes=https%3A//www.googleapis.com/auth/earthengine%20https%3A//www.googleapis.com/auth/devstorage.full_control&request_id=9R-JaPMjFqEeYvpAaudplPoBhWIhuH3nOYSqjIyMpgs&tc=62TXnz1EgvxM9isFqUR9t5CBm-6JahOIPJGrh35ErHs&cc=A-6SubAX7dchovGkEM-1t9dyThvBp82Lav0mXVUuYAo>https://code.earthengine.google.com/client-auth?scopes=https%3A//www.googleapis.com/auth/earthengine%20https%3A//www.googleapis.com/auth/devstorage.full_control&request_id=9R-JaPMjFqEeYvpAaudplPoBhWIhuH3nOYSqjIyMpgs&tc=62TXnz1EgvxM9isFqUR9t5CBm-6JahOIPJGrh35ErHs&cc=A-6SubAX7dchovGkEM-1t9dyThvBp82Lav0mXVUuYAo</a></p>\n",
       "        <p>The authorization workflow will generate a code, which you should paste in the box below.</p>\n",
       "        "
      ],
      "text/plain": [
       "<IPython.core.display.HTML object>"
      ]
     },
     "metadata": {},
     "output_type": "display_data"
    },
    {
     "name": "stdout",
     "output_type": "stream",
     "text": [
      "Enter verification code: 4/1AfJohXn-umin2vFdpgy4cYHeMiRT6Rhwh3We4z2IEuKetAvRuZCa96iW0DA\n",
      "\n",
      "Successfully saved authorization token.\n"
     ]
    }
   ],
   "source": [
    "import ee\n",
    "\n",
    "# Trigger the authentication flow.\n",
    "ee.Authenticate()\n",
    "\n",
    "# Initialize the library.\n",
    "ee.Initialize()"
   ]
  },
  {
   "cell_type": "code",
   "execution_count": 65,
   "id": "28913cc3",
   "metadata": {},
   "outputs": [
    {
     "data": {
      "text/html": [
       "\n",
       "            <style>\n",
       "                .geemap-dark {\n",
       "                    --jp-widgets-color: white;\n",
       "                    --jp-widgets-label-color: white;\n",
       "                    --jp-ui-font-color1: white;\n",
       "                    --jp-layout-color2: #454545;\n",
       "                    background-color: #383838;\n",
       "                }\n",
       "                    \n",
       "                .geemap-dark .jupyter-button {\n",
       "                    --jp-layout-color3: #383838;\n",
       "                }\n",
       "                \n",
       "                .geemap-colab {\n",
       "                    background-color: var(--colab-primary-surface-color, white);\n",
       "                }\n",
       "                    \n",
       "                .geemap-colab .jupyter-button {\n",
       "                    --jp-layout-color3: var(--colab-primary-surface-color, white);\n",
       "                }\n",
       "            </style>\n",
       "            "
      ],
      "text/plain": [
       "<IPython.core.display.HTML object>"
      ]
     },
     "metadata": {},
     "output_type": "display_data"
    }
   ],
   "source": [
    "import geemap\n",
    "\n",
    "import os\n",
    "from geemap.conversion import *\n",
    "import folium\n",
    "from IPython.display import display"
   ]
  },
  {
   "cell_type": "code",
   "execution_count": 73,
   "id": "1fc45aa1",
   "metadata": {},
   "outputs": [
    {
     "data": {
      "text/html": [
       "\n",
       "            <style>\n",
       "                .geemap-dark {\n",
       "                    --jp-widgets-color: white;\n",
       "                    --jp-widgets-label-color: white;\n",
       "                    --jp-ui-font-color1: white;\n",
       "                    --jp-layout-color2: #454545;\n",
       "                    background-color: #383838;\n",
       "                }\n",
       "                    \n",
       "                .geemap-dark .jupyter-button {\n",
       "                    --jp-layout-color3: #383838;\n",
       "                }\n",
       "                \n",
       "                .geemap-colab {\n",
       "                    background-color: var(--colab-primary-surface-color, white);\n",
       "                }\n",
       "                    \n",
       "                .geemap-colab .jupyter-button {\n",
       "                    --jp-layout-color3: var(--colab-primary-surface-color, white);\n",
       "                }\n",
       "            </style>\n",
       "            "
      ],
      "text/plain": [
       "<IPython.core.display.HTML object>"
      ]
     },
     "metadata": {},
     "output_type": "display_data"
    },
    {
     "data": {
      "text/html": [
       "<div style=\"width:100%;\"><div style=\"position:relative;width:100%;height:0;padding-bottom:60%;\"><span style=\"color:#565656\">Make this Notebook Trusted to load map: File -> Trust Notebook</span><iframe srcdoc=\"&lt;!DOCTYPE html&gt;\n",
       "&lt;html&gt;\n",
       "&lt;head&gt;\n",
       "    \n",
       "    &lt;meta http-equiv=&quot;content-type&quot; content=&quot;text/html; charset=UTF-8&quot; /&gt;\n",
       "    \n",
       "        &lt;script&gt;\n",
       "            L_NO_TOUCH = false;\n",
       "            L_DISABLE_3D = false;\n",
       "        &lt;/script&gt;\n",
       "    \n",
       "    &lt;style&gt;html, body {width: 100%;height: 100%;margin: 0;padding: 0;}&lt;/style&gt;\n",
       "    &lt;style&gt;#map {position:absolute;top:0;bottom:0;right:0;left:0;}&lt;/style&gt;\n",
       "    &lt;script src=&quot;https://cdn.jsdelivr.net/npm/leaflet@1.9.3/dist/leaflet.js&quot;&gt;&lt;/script&gt;\n",
       "    &lt;script src=&quot;https://code.jquery.com/jquery-3.7.1.min.js&quot;&gt;&lt;/script&gt;\n",
       "    &lt;script src=&quot;https://cdn.jsdelivr.net/npm/bootstrap@5.2.2/dist/js/bootstrap.bundle.min.js&quot;&gt;&lt;/script&gt;\n",
       "    &lt;script src=&quot;https://cdnjs.cloudflare.com/ajax/libs/Leaflet.awesome-markers/2.0.2/leaflet.awesome-markers.js&quot;&gt;&lt;/script&gt;\n",
       "    &lt;link rel=&quot;stylesheet&quot; href=&quot;https://cdn.jsdelivr.net/npm/leaflet@1.9.3/dist/leaflet.css&quot;/&gt;\n",
       "    &lt;link rel=&quot;stylesheet&quot; href=&quot;https://cdn.jsdelivr.net/npm/bootstrap@5.2.2/dist/css/bootstrap.min.css&quot;/&gt;\n",
       "    &lt;link rel=&quot;stylesheet&quot; href=&quot;https://netdna.bootstrapcdn.com/bootstrap/3.0.0/css/bootstrap.min.css&quot;/&gt;\n",
       "    &lt;link rel=&quot;stylesheet&quot; href=&quot;https://cdn.jsdelivr.net/npm/@fortawesome/fontawesome-free@6.2.0/css/all.min.css&quot;/&gt;\n",
       "    &lt;link rel=&quot;stylesheet&quot; href=&quot;https://cdnjs.cloudflare.com/ajax/libs/Leaflet.awesome-markers/2.0.2/leaflet.awesome-markers.css&quot;/&gt;\n",
       "    &lt;link rel=&quot;stylesheet&quot; href=&quot;https://cdn.jsdelivr.net/gh/python-visualization/folium/folium/templates/leaflet.awesome.rotate.min.css&quot;/&gt;\n",
       "    \n",
       "            &lt;meta name=&quot;viewport&quot; content=&quot;width=device-width,\n",
       "                initial-scale=1.0, maximum-scale=1.0, user-scalable=no&quot; /&gt;\n",
       "            &lt;style&gt;\n",
       "                #map_ab4e911c819aaea7714469aeffc02544 {\n",
       "                    position: relative;\n",
       "                    width: 100.0%;\n",
       "                    height: 100.0%;\n",
       "                    left: 0.0%;\n",
       "                    top: 0.0%;\n",
       "                }\n",
       "                .leaflet-container { font-size: 1rem; }\n",
       "            &lt;/style&gt;\n",
       "        \n",
       "&lt;/head&gt;\n",
       "&lt;body&gt;\n",
       "    \n",
       "    \n",
       "            &lt;div class=&quot;folium-map&quot; id=&quot;map_ab4e911c819aaea7714469aeffc02544&quot; &gt;&lt;/div&gt;\n",
       "        \n",
       "&lt;/body&gt;\n",
       "&lt;script&gt;\n",
       "    \n",
       "    \n",
       "            var map_ab4e911c819aaea7714469aeffc02544 = L.map(\n",
       "                &quot;map_ab4e911c819aaea7714469aeffc02544&quot;,\n",
       "                {\n",
       "                    center: [51.36762235943243, 0.2417233652757374],\n",
       "                    crs: L.CRS.EPSG3857,\n",
       "                    zoom: 7,\n",
       "                    zoomControl: true,\n",
       "                    preferCanvas: false,\n",
       "                }\n",
       "            );\n",
       "\n",
       "            \n",
       "\n",
       "        \n",
       "    \n",
       "            var tile_layer_669e5a8fff3dd61b14892f79e3d056c8 = L.tileLayer(\n",
       "                &quot;https://tile.openstreetmap.org/{z}/{x}/{y}.png&quot;,\n",
       "                {&quot;attribution&quot;: &quot;\\u0026copy; \\u003ca href=\\&quot;https://www.openstreetmap.org/copyright\\&quot;\\u003eOpenStreetMap\\u003c/a\\u003e contributors&quot;, &quot;detectRetina&quot;: false, &quot;maxNativeZoom&quot;: 19, &quot;maxZoom&quot;: 19, &quot;minZoom&quot;: 0, &quot;noWrap&quot;: false, &quot;opacity&quot;: 1, &quot;subdomains&quot;: &quot;abc&quot;, &quot;tms&quot;: false}\n",
       "            );\n",
       "        \n",
       "    \n",
       "            tile_layer_669e5a8fff3dd61b14892f79e3d056c8.addTo(map_ab4e911c819aaea7714469aeffc02544);\n",
       "        \n",
       "    \n",
       "\n",
       "        function geo_json_36fdd04952d78e9119a7f7acd370893d_onEachFeature(feature, layer) {\n",
       "            layer.on({\n",
       "            });\n",
       "        };\n",
       "        var geo_json_36fdd04952d78e9119a7f7acd370893d = L.geoJson(null, {\n",
       "                onEachFeature: geo_json_36fdd04952d78e9119a7f7acd370893d_onEachFeature,\n",
       "            \n",
       "        });\n",
       "\n",
       "        function geo_json_36fdd04952d78e9119a7f7acd370893d_add (data) {\n",
       "            geo_json_36fdd04952d78e9119a7f7acd370893d\n",
       "                .addData(data);\n",
       "        }\n",
       "            geo_json_36fdd04952d78e9119a7f7acd370893d_add({&quot;columns&quot;: {&quot;system:index&quot;: &quot;String&quot;}, &quot;features&quot;: [{&quot;geometry&quot;: {&quot;coordinates&quot;: [[[-2.952326228952461, 53.479403573077256], [-2.929901774438096, 53.446406950139306], [-2.9074773673023246, 53.41341041626663], [-2.885053009752208, 53.38041383675991], [-2.862628621354899, 53.34741724399825], [-2.8402042230992732, 53.314420667897124], [-2.8177798278224313, 53.28142405626194], [-2.795355357074238, 53.248427441483415], [-2.7729310417937163, 53.21543093096043], [-2.7505065792378547, 53.18243431557638], [-2.7280822010434838, 53.1494377029183], [-2.7056578307009564, 53.11644112545144], [-2.6832333845884486, 53.08344453365476], [-2.6608089868033824, 53.05044795552274], [-2.6383845627863614, 53.01745142354301], [-2.615960221325033, 52.984454802163924], [-2.593535797983662, 52.95145820800251], [-2.5711114180095382, 52.918461669246085], [-2.5486869940809216, 52.885465054996324], [-2.5262625611900047, 52.85246847748941], [-2.5038382377351986, 52.8194718835017], [-2.4814137569779326, 52.78647530984369], [-2.458989344032513, 52.75347878295894], [-2.4365650130630403, 52.72048217043597], [-2.4141406051323258, 52.68748558861244], [-2.391716143380563, 52.65448898669731], [-2.369291762816824, 52.621492474959275], [-2.3468673757577756, 52.5884958419394], [-2.3244430274922845, 52.55549928138343], [-2.3020185420945167, 52.52250266528892], [-2.2795941527953922, 52.489506102181785], [-2.257169788508256, 52.45650954367395], [-2.234745379276921, 52.423512941463414], [-2.212320959073827, 52.39051632670176], [-2.189896568534155, 52.357519811692804], [-2.1674721268613184, 52.32452318600969], [-2.1450477780550203, 52.29152664140779], [-2.1226233532213095, 52.258530050535164], [-2.100198984447009, 52.22553344306847], [-2.0777746126155754, 52.19253685214509], [-2.0553501794426294, 52.159540310847596], [-2.032925805889955, 52.12654368719312], [-2.010501345735312, 52.09354709694916], [-1.9880769326194905, 52.06055057001746], [-1.9656525937120302, 52.02755397646992], [-1.9432281791788064, 51.99455735125793], [-1.920803734961342, 51.9615608068111], [-1.8983793846858072, 51.928564211989105], [-1.8759549861812976, 51.8955676823707], [-1.853530570210576, 51.86257108859619], [-1.8311061789147407, 51.829574462700045], [-1.8086817662288912, 51.79657791867716], [-1.7862573646566227, 51.76358132754271], [-1.7638329242907764, 51.730584722878255], [-1.7414085824805374, 51.697588135461864], [-1.7189841969773048, 51.66459160025926], [-1.696559710078642, 51.63159499017206], [-1.674135358249938, 51.598598415190665], [-1.6517109040253037, 51.56560183139754], [-1.629286579340424, 51.53260526860847], [-1.6068621488116137, 51.49960868299328], [-1.584437752656647, 51.466612105815685], [-1.5620133421235716, 51.433615490831336], [-1.5395889702628813, 51.40061895076366], [-1.517164585261353, 51.36762235943246], [-1.4621993111923572, 51.374133902779825], [-1.407234012680229, 51.38064546305086], [-1.3522687594152314, 51.38715697071269], [-1.297303537787441, 51.39366851740186], [-1.2423383268514703, 51.40018003467626], [-1.1873730221976615, 51.40669161504412], [-1.13240778347785, 51.41320310802226], [-1.0774425102830287, 51.419714686157384], [-1.02247727210583, 51.42622619995788], [-0.9675120571268473, 51.43273774101949], [-0.9125468507003067, 51.439249320845754], [-0.8575815452967548, 51.44576087146316], [-0.8026163093538186, 51.45227240292098], [-0.7476510390429366, 51.4587839273166], [-0.6926858124925233, 51.465295455482234], [-0.6377205268832727, 51.471806999379105], [-0.5827553514901691, 51.478318569428886], [-0.527790092385042, 51.48483009782919], [-0.47282482956686406, 51.491341595465], [-0.4178595541376854, 51.49785315387579], [-0.3628943450473831, 51.504364703954785], [-0.307929102774321, 51.5108762573842], [-0.2529638185235846, 51.51738782546659], [-0.1979985732577744, 51.52389933912056], [-0.1430333597006297, 51.53041088994577], [-0.08806808014967375, 51.536922409161456], [-0.03310281778232541, 51.54343398820676], [0.021862423516426827, 51.549945477946764], [0.07682765129091348, 51.55645705021401], [0.1317929055151394, 51.56296855579501], [0.18675819936070046, 51.56948016647518], [0.2417233652757374, 51.57599165304619], [0.2261274640043519, 51.592763016088355], [0.21053146538778686, 51.609534435841695], [0.19493554771901075, 51.626305828490096], [0.17933961947393728, 51.643077191005425], [0.16374367929051858, 51.6598485201865], [0.14814772623373734, 51.676619893234445], [0.1325517588063979, 51.693391307009435], [0.11695577517315085, 51.71016267792937], [0.10135986462754579, 51.72693408317897], [0.08576393510954775, 51.743705439237765], [0.0701679854578531, 51.76047682340908], [0.05457201401527703, 51.777248152030865], [0.03897601964254892, 51.79401958299046], [0.023380091060190723, 51.81079095206501], [0.007784136484943278, 51.827562336681154], [-0.0078117424022127735, 51.84433365310412], [-0.023407702898321926, 51.861105059392635], [-0.03900369054252256, 51.87787647182314], [-0.05459967060998204, 51.89464780661267], [-0.07019560876542763, 51.91141922196752], [-0.08579156099003923, 51.928190553393975], [-0.10138749330090582, 51.9449619591804], [-0.11698346217637985, 51.96173335547438], [-0.13257934172653013, 51.97850465851965], [-0.1481753725262648, 51.99527610722027], [-0.16377124535382812, 52.01204745653763], [-0.1793672004374071, 52.02881878381567], [-0.19496320442477375, 52.0455901668037], [-0.21055913183347372, 52.062361602650626], [-0.22615503897759562, 52.07913292645957], [-0.24175107674723956, 52.09590429656203], [-0.25734702788163377, 52.11267571032694], [-0.2729429496020436, 52.12944708366295], [-0.28853890008493094, 52.14621841332977], [-0.304134847413867, 52.162989858252274], [-0.3197307553342945, 52.17976117253654], [-0.3353267775417196, 52.19653259565951], [-0.3509226941245001, 52.213303963159355], [-0.3665186573080567, 52.23007535256196], [-0.3821145401467614, 52.246846680133885], [-0.39771049663243174, 52.26361810448664], [-0.41330649141669923, 52.2803894604917], [-0.42890239967167604, 52.297160826624804], [-0.44449837384333296, 52.31393219930719], [-0.46009428799386387, 52.33070357596248], [-0.4756902950823311, 52.34747495296146], [-0.4912862691783379, 52.36424632775215], [-0.5068821772352342, 52.38101769745222], [-0.5224781728562128, 52.39778905837492], [-0.5380740381462769, 52.414560489717125], [-0.5536700173710675, 52.431331824821704], [-0.5692659876977805, 52.44810322377423], [-0.5848619148159732, 52.46487460243911], [-0.6004578597228206, 52.481645957493946], [-0.6160537916757937, 52.49841736743654], [-0.6316497703005141, 52.51518874759053], [-0.6472457632209114, 52.53196009508683], [-0.6628416458690299, 52.54873148902225], [-0.6784376662509143, 52.565502843603035], [-0.6940336058804187, 52.58227423850025], [-0.7096295246381809, 52.59904558893127], [-0.7252254867957498, 52.61581697300045], [-0.7408214603991824, 52.63258838792724], [-0.756417411225015, 52.649359749413485], [-0.7720133093826765, 52.66613113621235], [-0.7876093100472844, 52.682902462767565], [-0.803205196492147, 52.69967389070258], [-0.8188012167379621, 52.71644525219936], [-0.8343971516195755, 52.73321662737562], [-0.8499930642995991, 52.74998801285737], [-0.8655890156821929, 52.766759323570064], [-0.8811849793175318, 52.78353072009196], [-0.896780921129249, 52.800302118056585], [-0.9123769049819924, 52.817073514031094], [-0.9279728011956148, 52.83384482429735], [-0.9435687748183877, 52.850616208136955], [-0.9591646962288034, 52.86738758187256], [-0.9747606326322468, 52.88415902384686], [-0.990356642908819, 52.90093036699699], [-1.005952605861706, 52.91770177303184], [-1.0215484842178484, 52.934473075647375], [-1.037144447990291, 52.95124451608618], [-1.0527404571675345, 52.96801584609332], [-1.0683363907011063, 52.98478722760797], [-1.0839323138994397, 53.00155865718295], [-1.0995282858307844, 53.018329967448956], [-1.1151241889436454, 53.03510140246873], [-1.1307201756471958, 53.05187271196676], [-1.1463161286893406, 53.06864414013648], [-1.1619121073531533, 53.0854155194937], [-1.1775079840380864, 53.102186848354094], [-1.1931039288872858, 53.11895828629916], [-1.2086999008646606, 53.13572958458011], [-1.2242958802567208, 53.15250098677882], [-1.2398918330751516, 53.169272408285174], [-1.2554877251037042, 53.18604376443398], [-1.2710837243568862, 53.20281513271637], [-1.286679703297785, 53.219586511595374], [-1.302275631611858, 53.236357898541165], [-1.3178715766359688, 53.2531292899636], [-1.3334675042490554, 53.26990060111224], [-1.3490634900832856, 53.28667199277361], [-1.3646594023075889, 53.3034433813264], [-1.3802554067487869, 53.32021476202206], [-1.3958512774183371, 53.33698613460082], [-1.411447278619139, 53.35375749313486], [-1.4270431884888963, 53.370528919732514], [-1.442639165141576, 53.387300244939226], [-1.4582350890929203, 53.40407163209024], [-1.4738310246762822, 53.42084299518546], [-1.4894270452948761, 53.437614412898974], [-1.5050230183643458, 53.45438580160078], [-1.5206189141065996, 53.47115715883408], [-1.5362149004934365, 53.487928479622305], [-1.5518108585599937, 53.50469992766487], [-1.5674067448113584, 53.521471253181566], [-1.5830027372847688, 53.53824261606247], [-1.5985987077128314, 53.555014015185925], [-1.6141946219045076, 53.57178536563329], [-1.6297905546827207, 53.588556746179236], [-1.645386476914243, 53.605328154427966], [-1.660982454000451, 53.622099504037635], [-1.6765784619154205, 53.63887087515238], [-1.6921743719248394, 53.65564226679066], [-1.7077703544449403, 53.67241367378084], [-1.7233662755476788, 53.6891850125076], [-1.7389622112828738, 53.70595636180112], [-1.7545581381058102, 53.72272780198341], [-1.7919884444343797, 53.7151238738086], [-1.8294186383520268, 53.70752000126401], [-1.866848913167857, 53.6999160927617], [-1.9042791727791692, 53.69231222656471], [-1.9417094157880248, 53.684708396768286], [-1.9791396347984889, 53.67710451484756], [-2.0165699284171614, 53.669500573249834], [-2.0540002069821894, 53.661896732939084], [-2.0914304567332698, 53.65429282280931], [-2.128860682290498, 53.646688919585145], [-2.1662908887059773, 53.639085099951025], [-2.2037211620618673, 53.63148119102853], [-2.2411514067834686, 53.62387727130282], [-2.278581728845807, 53.61627341552287], [-2.3160119188131625, 53.60866953905096], [-2.353442176424129, 53.60106563216201], [-2.3908724066740503, 53.593461773405636], [-2.4283027017595407, 53.585857872353486], [-2.4657329667934547, 53.578254007603704], [-2.5031632004815934, 53.570650173266976], [-2.5405934947503863, 53.563046278861094], [-2.5780236539596557, 53.55544240522849], [-2.6154539716782788, 53.54783845754056], [-2.652884159408352, 53.54023460131447], [-2.690314409978782, 53.53263074379018], [-2.7277447221112237, 53.525026878999206], [-2.765174985076049, 53.517422920923664], [-2.8026052224252402, 53.50981911086018], [-2.840035508937744, 53.50221519338626], [-2.877465759031754, 53.494611329716854], [-2.9148959628071327, 53.48700743162149], [-2.952326228952461, 53.479403573077256]]], &quot;type&quot;: &quot;Polygon&quot;}, &quot;id&quot;: &quot;00000000000000000000&quot;, &quot;properties&quot;: {}, &quot;type&quot;: &quot;Feature&quot;}], &quot;id&quot;: &quot;projects/ee-bripickstone/assets/HS2&quot;, &quot;properties&quot;: {&quot;system:asset_size&quot;: 9516}, &quot;type&quot;: &quot;FeatureCollection&quot;, &quot;version&quot;: 1701873371311757});\n",
       "\n",
       "        \n",
       "    \n",
       "            geo_json_36fdd04952d78e9119a7f7acd370893d.addTo(map_ab4e911c819aaea7714469aeffc02544);\n",
       "        \n",
       "&lt;/script&gt;\n",
       "&lt;/html&gt;\" style=\"position:absolute;width:100%;height:100%;left:0;top:0;border:none !important;\" allowfullscreen webkitallowfullscreen mozallowfullscreen></iframe></div></div>"
      ],
      "text/plain": [
       "<folium.folium.Map at 0x148e11780>"
      ]
     },
     "metadata": {},
     "output_type": "display_data"
    }
   ],
   "source": [
    "#Add vector file of area of interest - this is a shapefile from London to Manchester\n",
    "HS2 = ee.FeatureCollection('projects/ee-bripickstone/assets/HS2')\n",
    "\n",
    "# Get the bounds of the feature collection\n",
    "geometry = HS2.geometry()\n",
    "bounds = geometry.bounds().getInfo()['coordinates'][0]\n",
    "\n",
    "# Create a Folium map centered around the bounds\n",
    "map_center = [bounds[1][1], bounds[1][0]]  # Using the southwest corner as the center\n",
    "folium_map = folium.Map(location=map_center, zoom_start=7)\n",
    "\n",
    "# Add the Earth Engine FeatureCollection as a GeoJSON layer\n",
    "geojson_layer = folium.GeoJson(data=HS2.getInfo(), name='HS2')\n",
    "geojson_layer.add_to(folium_map)\n",
    "\n",
    "# Display the Folium map\n",
    "display(folium_map)\n"
   ]
  },
  {
   "cell_type": "code",
   "execution_count": 78,
   "id": "576c3a44",
   "metadata": {},
   "outputs": [
    {
     "data": {
      "text/html": [
       "\n",
       "            <style>\n",
       "                .geemap-dark {\n",
       "                    --jp-widgets-color: white;\n",
       "                    --jp-widgets-label-color: white;\n",
       "                    --jp-ui-font-color1: white;\n",
       "                    --jp-layout-color2: #454545;\n",
       "                    background-color: #383838;\n",
       "                }\n",
       "                    \n",
       "                .geemap-dark .jupyter-button {\n",
       "                    --jp-layout-color3: #383838;\n",
       "                }\n",
       "                \n",
       "                .geemap-colab {\n",
       "                    background-color: var(--colab-primary-surface-color, white);\n",
       "                }\n",
       "                    \n",
       "                .geemap-colab .jupyter-button {\n",
       "                    --jp-layout-color3: var(--colab-primary-surface-color, white);\n",
       "                }\n",
       "            </style>\n",
       "            "
      ],
      "text/plain": [
       "<IPython.core.display.HTML object>"
      ]
     },
     "metadata": {},
     "output_type": "display_data"
    },
    {
     "data": {
      "application/vnd.jupyter.widget-view+json": {
       "model_id": "b5022e83bc554d29a5f30d8ca1438738",
       "version_major": 2,
       "version_minor": 0
      },
      "text/plain": [
       "Map(center=[52.545175080707935, -1.355301431838362], controls=(WidgetControl(options=['position', 'transparent…"
      ]
     },
     "execution_count": 78,
     "metadata": {},
     "output_type": "execute_result"
    }
   ],
   "source": [
    "S2_dataset = ee.ImageCollection('COPERNICUS/S2_SR').filterDate('2021-01-01', '2023-12-01')\\\n",
    ".filterBounds(HS2)\\\n",
    "\n",
    "visualization = {\n",
    "    'min': 0.0,\n",
    "    'max': 3000,\n",
    "    'bands': ['B4', 'B3', 'B2'],\n",
    "}\n",
    "\n",
    "S2_median_RGB_composite = S2_dataset.select(['B4','B3','B2']).median()\n",
    "\n",
    "#Map = geemap.Map()\n",
    "Map.centerObject(HS2)\n",
    "Map.add('layer_manager')                          #This lets us switch between layers on the map\n",
    "Map.addLayer(S2_median_RGB_composite, visualization, 'S2 RGB Median')\n",
    "Map\n",
    "#display(S2_dataset.first())"
   ]
  },
  {
   "cell_type": "code",
   "execution_count": null,
   "id": "b418850b",
   "metadata": {},
   "outputs": [],
   "source": []
  }
 ],
 "metadata": {
  "kernelspec": {
   "display_name": "Python 3 (ipykernel)",
   "language": "python",
   "name": "python3"
  },
  "language_info": {
   "codemirror_mode": {
    "name": "ipython",
    "version": 3
   },
   "file_extension": ".py",
   "mimetype": "text/x-python",
   "name": "python",
   "nbconvert_exporter": "python",
   "pygments_lexer": "ipython3",
   "version": "3.9.15"
  }
 },
 "nbformat": 4,
 "nbformat_minor": 5
}
